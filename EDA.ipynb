{
 "cells": [
  {
   "cell_type": "markdown",
   "id": "3bd3d169-d37a-48a7-b8ad-32536d66bb37",
   "metadata": {},
   "source": [
    "# EDA"
   ]
  },
  {
   "cell_type": "code",
   "execution_count": 1,
   "id": "7ad936aa-9e9a-4812-9e9b-50d799e1ce0c",
   "metadata": {},
   "outputs": [],
   "source": [
    "import matplotlib.pyplot as plt\n",
    "import seaborn as sn\n",
    "import pandas as pd\n",
    "import numpy as np"
   ]
  },
  {
   "cell_type": "code",
   "execution_count": 2,
   "id": "3a2dfc47-b0cc-4ed6-ae6e-411e6c03b895",
   "metadata": {},
   "outputs": [],
   "source": [
    "df1 = pd.read_csv(r\"D:\\Unemployment in India.csv\")"
   ]
  },
  {
   "cell_type": "markdown",
   "id": "14fe9c77-d8bf-4b12-99e4-85fbf50bddb3",
   "metadata": {},
   "source": [
    "Data Frame 1(df1) represent Unemployment in India"
   ]
  },
  {
   "cell_type": "code",
   "execution_count": 3,
   "id": "2f1d2b49-7bf0-461f-b4d8-0a70790e19c9",
   "metadata": {},
   "outputs": [],
   "source": [
    "df2 = pd.read_csv(r\"D:\\Unemployment_Rate_upto_11_2020.csv\")"
   ]
  },
  {
   "cell_type": "markdown",
   "id": "c2429cd1-f19b-406b-9bd9-f77d1e4476a4",
   "metadata": {},
   "source": [
    "Data Frame 2 (df2) represent Unemployment Rate in 2020 table"
   ]
  },
  {
   "cell_type": "code",
   "execution_count": 5,
   "id": "1d34acd1-ed3a-44a4-b24c-f31fd47fde68",
   "metadata": {},
   "outputs": [
    {
     "data": {
      "text/html": [
       "<div>\n",
       "<style scoped>\n",
       "    .dataframe tbody tr th:only-of-type {\n",
       "        vertical-align: middle;\n",
       "    }\n",
       "\n",
       "    .dataframe tbody tr th {\n",
       "        vertical-align: top;\n",
       "    }\n",
       "\n",
       "    .dataframe thead th {\n",
       "        text-align: right;\n",
       "    }\n",
       "</style>\n",
       "<table border=\"1\" class=\"dataframe\">\n",
       "  <thead>\n",
       "    <tr style=\"text-align: right;\">\n",
       "      <th></th>\n",
       "      <th>Region</th>\n",
       "      <th>Date</th>\n",
       "      <th>Frequency</th>\n",
       "      <th>Estimated Unemployment Rate (%)</th>\n",
       "      <th>Estimated Employed</th>\n",
       "      <th>Estimated Labour Participation Rate (%)</th>\n",
       "      <th>Area</th>\n",
       "    </tr>\n",
       "  </thead>\n",
       "  <tbody>\n",
       "    <tr>\n",
       "      <th>0</th>\n",
       "      <td>Andhra Pradesh</td>\n",
       "      <td>31-05-2019</td>\n",
       "      <td>Monthly</td>\n",
       "      <td>3.65</td>\n",
       "      <td>11999139.0</td>\n",
       "      <td>43.24</td>\n",
       "      <td>Rural</td>\n",
       "    </tr>\n",
       "    <tr>\n",
       "      <th>1</th>\n",
       "      <td>Andhra Pradesh</td>\n",
       "      <td>30-06-2019</td>\n",
       "      <td>Monthly</td>\n",
       "      <td>3.05</td>\n",
       "      <td>11755881.0</td>\n",
       "      <td>42.05</td>\n",
       "      <td>Rural</td>\n",
       "    </tr>\n",
       "    <tr>\n",
       "      <th>2</th>\n",
       "      <td>Andhra Pradesh</td>\n",
       "      <td>31-07-2019</td>\n",
       "      <td>Monthly</td>\n",
       "      <td>3.75</td>\n",
       "      <td>12086707.0</td>\n",
       "      <td>43.50</td>\n",
       "      <td>Rural</td>\n",
       "    </tr>\n",
       "    <tr>\n",
       "      <th>3</th>\n",
       "      <td>Andhra Pradesh</td>\n",
       "      <td>31-08-2019</td>\n",
       "      <td>Monthly</td>\n",
       "      <td>3.32</td>\n",
       "      <td>12285693.0</td>\n",
       "      <td>43.97</td>\n",
       "      <td>Rural</td>\n",
       "    </tr>\n",
       "    <tr>\n",
       "      <th>4</th>\n",
       "      <td>Andhra Pradesh</td>\n",
       "      <td>30-09-2019</td>\n",
       "      <td>Monthly</td>\n",
       "      <td>5.17</td>\n",
       "      <td>12256762.0</td>\n",
       "      <td>44.68</td>\n",
       "      <td>Rural</td>\n",
       "    </tr>\n",
       "  </tbody>\n",
       "</table>\n",
       "</div>"
      ],
      "text/plain": [
       "           Region         Date  Frequency   Estimated Unemployment Rate (%)  \\\n",
       "0  Andhra Pradesh   31-05-2019    Monthly                              3.65   \n",
       "1  Andhra Pradesh   30-06-2019    Monthly                              3.05   \n",
       "2  Andhra Pradesh   31-07-2019    Monthly                              3.75   \n",
       "3  Andhra Pradesh   31-08-2019    Monthly                              3.32   \n",
       "4  Andhra Pradesh   30-09-2019    Monthly                              5.17   \n",
       "\n",
       "    Estimated Employed   Estimated Labour Participation Rate (%)   Area  \n",
       "0           11999139.0                                     43.24  Rural  \n",
       "1           11755881.0                                     42.05  Rural  \n",
       "2           12086707.0                                     43.50  Rural  \n",
       "3           12285693.0                                     43.97  Rural  \n",
       "4           12256762.0                                     44.68  Rural  "
      ]
     },
     "execution_count": 5,
     "metadata": {},
     "output_type": "execute_result"
    }
   ],
   "source": [
    "df1.head()"
   ]
  },
  {
   "cell_type": "code",
   "execution_count": 6,
   "id": "27e8124b-d653-4852-bb7a-a7323ea5c585",
   "metadata": {},
   "outputs": [
    {
     "data": {
      "text/html": [
       "<div>\n",
       "<style scoped>\n",
       "    .dataframe tbody tr th:only-of-type {\n",
       "        vertical-align: middle;\n",
       "    }\n",
       "\n",
       "    .dataframe tbody tr th {\n",
       "        vertical-align: top;\n",
       "    }\n",
       "\n",
       "    .dataframe thead th {\n",
       "        text-align: right;\n",
       "    }\n",
       "</style>\n",
       "<table border=\"1\" class=\"dataframe\">\n",
       "  <thead>\n",
       "    <tr style=\"text-align: right;\">\n",
       "      <th></th>\n",
       "      <th>Region</th>\n",
       "      <th>Date</th>\n",
       "      <th>Frequency</th>\n",
       "      <th>Estimated Unemployment Rate (%)</th>\n",
       "      <th>Estimated Employed</th>\n",
       "      <th>Estimated Labour Participation Rate (%)</th>\n",
       "      <th>Region.1</th>\n",
       "      <th>longitude</th>\n",
       "      <th>latitude</th>\n",
       "    </tr>\n",
       "  </thead>\n",
       "  <tbody>\n",
       "    <tr>\n",
       "      <th>0</th>\n",
       "      <td>Andhra Pradesh</td>\n",
       "      <td>31-01-2020</td>\n",
       "      <td>M</td>\n",
       "      <td>5.48</td>\n",
       "      <td>16635535</td>\n",
       "      <td>41.02</td>\n",
       "      <td>South</td>\n",
       "      <td>15.9129</td>\n",
       "      <td>79.74</td>\n",
       "    </tr>\n",
       "    <tr>\n",
       "      <th>1</th>\n",
       "      <td>Andhra Pradesh</td>\n",
       "      <td>29-02-2020</td>\n",
       "      <td>M</td>\n",
       "      <td>5.83</td>\n",
       "      <td>16545652</td>\n",
       "      <td>40.90</td>\n",
       "      <td>South</td>\n",
       "      <td>15.9129</td>\n",
       "      <td>79.74</td>\n",
       "    </tr>\n",
       "    <tr>\n",
       "      <th>2</th>\n",
       "      <td>Andhra Pradesh</td>\n",
       "      <td>31-03-2020</td>\n",
       "      <td>M</td>\n",
       "      <td>5.79</td>\n",
       "      <td>15881197</td>\n",
       "      <td>39.18</td>\n",
       "      <td>South</td>\n",
       "      <td>15.9129</td>\n",
       "      <td>79.74</td>\n",
       "    </tr>\n",
       "    <tr>\n",
       "      <th>3</th>\n",
       "      <td>Andhra Pradesh</td>\n",
       "      <td>30-04-2020</td>\n",
       "      <td>M</td>\n",
       "      <td>20.51</td>\n",
       "      <td>11336911</td>\n",
       "      <td>33.10</td>\n",
       "      <td>South</td>\n",
       "      <td>15.9129</td>\n",
       "      <td>79.74</td>\n",
       "    </tr>\n",
       "    <tr>\n",
       "      <th>4</th>\n",
       "      <td>Andhra Pradesh</td>\n",
       "      <td>31-05-2020</td>\n",
       "      <td>M</td>\n",
       "      <td>17.43</td>\n",
       "      <td>12988845</td>\n",
       "      <td>36.46</td>\n",
       "      <td>South</td>\n",
       "      <td>15.9129</td>\n",
       "      <td>79.74</td>\n",
       "    </tr>\n",
       "  </tbody>\n",
       "</table>\n",
       "</div>"
      ],
      "text/plain": [
       "           Region         Date  Frequency   Estimated Unemployment Rate (%)  \\\n",
       "0  Andhra Pradesh   31-01-2020          M                              5.48   \n",
       "1  Andhra Pradesh   29-02-2020          M                              5.83   \n",
       "2  Andhra Pradesh   31-03-2020          M                              5.79   \n",
       "3  Andhra Pradesh   30-04-2020          M                             20.51   \n",
       "4  Andhra Pradesh   31-05-2020          M                             17.43   \n",
       "\n",
       "    Estimated Employed   Estimated Labour Participation Rate (%) Region.1  \\\n",
       "0             16635535                                     41.02    South   \n",
       "1             16545652                                     40.90    South   \n",
       "2             15881197                                     39.18    South   \n",
       "3             11336911                                     33.10    South   \n",
       "4             12988845                                     36.46    South   \n",
       "\n",
       "   longitude  latitude  \n",
       "0    15.9129     79.74  \n",
       "1    15.9129     79.74  \n",
       "2    15.9129     79.74  \n",
       "3    15.9129     79.74  \n",
       "4    15.9129     79.74  "
      ]
     },
     "execution_count": 6,
     "metadata": {},
     "output_type": "execute_result"
    }
   ],
   "source": [
    "df2.head()"
   ]
  },
  {
   "cell_type": "markdown",
   "id": "ae3fe3c9-b482-4d20-8d03-0dcbaba81fa0",
   "metadata": {},
   "source": [
    "# meaningful questions about the dataset before analysis"
   ]
  },
  {
   "cell_type": "code",
   "execution_count": null,
   "id": "92a4fbf6-8bf0-4860-b4d2-c56c0d0f5114",
   "metadata": {},
   "outputs": [],
   "source": [
    "Unemployment Analysis in India (2019–2020)\n",
    "\n",
    "## Goals:\n",
    "- Analyze trends in unemployment across states and time.\n",
    "- Compare unemployment between urban and rural areas.\n",
    "- Detect anomalies during the COVID-19 period."
   ]
  },
  {
   "cell_type": "markdown",
   "id": "ec7344ed-e7b5-4354-9f0d-93216d9965c8",
   "metadata": {},
   "source": [
    "# Date Structure"
   ]
  },
  {
   "cell_type": "code",
   "execution_count": 8,
   "id": "708aa531-8e37-497b-a15c-670127a1ef01",
   "metadata": {},
   "outputs": [
    {
     "data": {
      "text/plain": [
       "Index(['Region', ' Date', ' Frequency', ' Estimated Unemployment Rate (%)',\n",
       "       ' Estimated Employed', ' Estimated Labour Participation Rate (%)',\n",
       "       'Area'],\n",
       "      dtype='object')"
      ]
     },
     "execution_count": 8,
     "metadata": {},
     "output_type": "execute_result"
    }
   ],
   "source": [
    "df1 = pd.read_csv(r\"D:\\Unemployment in India.csv\")\n",
    "df1.columns"
   ]
  },
  {
   "cell_type": "markdown",
   "id": "22905fb4-2fbd-413a-9821-127d59106fa5",
   "metadata": {},
   "source": [
    "As we can see there are extra spaces in the columns"
   ]
  },
  {
   "cell_type": "code",
   "execution_count": 9,
   "id": "9538932e-7fd6-45a2-b783-8ff40ca5aede",
   "metadata": {},
   "outputs": [
    {
     "name": "stdout",
     "output_type": "stream",
     "text": [
      "<class 'pandas.core.frame.DataFrame'>\n",
      "RangeIndex: 768 entries, 0 to 767\n",
      "Data columns (total 7 columns):\n",
      " #   Column                                    Non-Null Count  Dtype  \n",
      "---  ------                                    --------------  -----  \n",
      " 0   Region                                    740 non-null    object \n",
      " 1    Date                                     740 non-null    object \n",
      " 2    Frequency                                740 non-null    object \n",
      " 3    Estimated Unemployment Rate (%)          740 non-null    float64\n",
      " 4    Estimated Employed                       740 non-null    float64\n",
      " 5    Estimated Labour Participation Rate (%)  740 non-null    float64\n",
      " 6   Area                                      740 non-null    object \n",
      "dtypes: float64(3), object(4)\n",
      "memory usage: 42.1+ KB\n"
     ]
    }
   ],
   "source": [
    "df1.info()"
   ]
  },
  {
   "cell_type": "markdown",
   "id": "f595a97f-a8fc-45ae-accc-423fd7000ea4",
   "metadata": {},
   "source": [
    "There are some cleaning requirements in 'Date column' and 'Estimated Employed' column"
   ]
  },
  {
   "cell_type": "code",
   "execution_count": 10,
   "id": "5a08e964-1d31-475f-8e00-24d34d7fbeb5",
   "metadata": {},
   "outputs": [
    {
     "name": "stdout",
     "output_type": "stream",
     "text": [
      "Index(['Region', ' Date', ' Frequency', ' Estimated Unemployment Rate (%)',\n",
      "       ' Estimated Employed', ' Estimated Labour Participation Rate (%)',\n",
      "       'Region.1', 'longitude', 'latitude'],\n",
      "      dtype='object')\n"
     ]
    }
   ],
   "source": [
    "df2 = pd.read_csv(r\"D:\\Unemployment_Rate_upto_11_2020.csv\")\n",
    "print(df2.columns)"
   ]
  },
  {
   "cell_type": "markdown",
   "id": "30060e6b-5151-43db-951a-cbddcd7beaaf",
   "metadata": {},
   "source": [
    "As we can see there are extra spaces in the columns"
   ]
  },
  {
   "cell_type": "code",
   "execution_count": 11,
   "id": "968929e7-99c0-436f-856e-95731780ae0d",
   "metadata": {},
   "outputs": [
    {
     "name": "stdout",
     "output_type": "stream",
     "text": [
      "<class 'pandas.core.frame.DataFrame'>\n",
      "RangeIndex: 267 entries, 0 to 266\n",
      "Data columns (total 9 columns):\n",
      " #   Column                                    Non-Null Count  Dtype  \n",
      "---  ------                                    --------------  -----  \n",
      " 0   Region                                    267 non-null    object \n",
      " 1    Date                                     267 non-null    object \n",
      " 2    Frequency                                267 non-null    object \n",
      " 3    Estimated Unemployment Rate (%)          267 non-null    float64\n",
      " 4    Estimated Employed                       267 non-null    int64  \n",
      " 5    Estimated Labour Participation Rate (%)  267 non-null    float64\n",
      " 6   Region.1                                  267 non-null    object \n",
      " 7   longitude                                 267 non-null    float64\n",
      " 8   latitude                                  267 non-null    float64\n",
      "dtypes: float64(4), int64(1), object(4)\n",
      "memory usage: 18.9+ KB\n"
     ]
    }
   ],
   "source": [
    "df2.info()"
   ]
  },
  {
   "cell_type": "markdown",
   "id": "826fb110-4b54-4b76-a75f-3de6121fcbf6",
   "metadata": {},
   "source": [
    "There are some cleaning requirements in 'Date' column"
   ]
  },
  {
   "cell_type": "markdown",
   "id": "af39bb19-3c2c-4446-9e36-f2bdd632a031",
   "metadata": {},
   "source": [
    "# Cleaning Datas and Extra Column spaces Both Table Unemployment in India and Unemployment Rate in Year 2020"
   ]
  },
  {
   "cell_type": "code",
   "execution_count": 12,
   "id": "be843319-0c01-4f39-9b1b-074e7e24c877",
   "metadata": {},
   "outputs": [
    {
     "name": "stdout",
     "output_type": "stream",
     "text": [
      "<class 'pandas.core.frame.DataFrame'>\n",
      "RangeIndex: 768 entries, 0 to 767\n",
      "Data columns (total 7 columns):\n",
      " #   Column                                    Non-Null Count  Dtype  \n",
      "---  ------                                    --------------  -----  \n",
      " 0   Region                                    740 non-null    object \n",
      " 1    Date                                     740 non-null    object \n",
      " 2    Frequency                                740 non-null    object \n",
      " 3    Estimated Unemployment Rate (%)          740 non-null    float64\n",
      " 4    Estimated Employed                       740 non-null    float64\n",
      " 5    Estimated Labour Participation Rate (%)  740 non-null    float64\n",
      " 6   Area                                      740 non-null    object \n",
      "dtypes: float64(3), object(4)\n",
      "memory usage: 42.1+ KB\n"
     ]
    }
   ],
   "source": [
    "df1.info()"
   ]
  },
  {
   "cell_type": "code",
   "execution_count": 13,
   "id": "e380b5d0-ee1f-4809-b86c-06ea55f45772",
   "metadata": {},
   "outputs": [
    {
     "data": {
      "text/plain": [
       "<bound method NDFrame.describe of              Region         Date  Frequency   Estimated Unemployment Rate (%)  \\\n",
       "0    Andhra Pradesh   31-05-2019    Monthly                              3.65   \n",
       "1    Andhra Pradesh   30-06-2019    Monthly                              3.05   \n",
       "2    Andhra Pradesh   31-07-2019    Monthly                              3.75   \n",
       "3    Andhra Pradesh   31-08-2019    Monthly                              3.32   \n",
       "4    Andhra Pradesh   30-09-2019    Monthly                              5.17   \n",
       "..              ...          ...        ...                               ...   \n",
       "763             NaN          NaN        NaN                               NaN   \n",
       "764             NaN          NaN        NaN                               NaN   \n",
       "765             NaN          NaN        NaN                               NaN   \n",
       "766             NaN          NaN        NaN                               NaN   \n",
       "767             NaN          NaN        NaN                               NaN   \n",
       "\n",
       "      Estimated Employed   Estimated Labour Participation Rate (%)   Area  \n",
       "0             11999139.0                                     43.24  Rural  \n",
       "1             11755881.0                                     42.05  Rural  \n",
       "2             12086707.0                                     43.50  Rural  \n",
       "3             12285693.0                                     43.97  Rural  \n",
       "4             12256762.0                                     44.68  Rural  \n",
       "..                   ...                                       ...    ...  \n",
       "763                  NaN                                       NaN    NaN  \n",
       "764                  NaN                                       NaN    NaN  \n",
       "765                  NaN                                       NaN    NaN  \n",
       "766                  NaN                                       NaN    NaN  \n",
       "767                  NaN                                       NaN    NaN  \n",
       "\n",
       "[768 rows x 7 columns]>"
      ]
     },
     "execution_count": 13,
     "metadata": {},
     "output_type": "execute_result"
    }
   ],
   "source": [
    "df1.describe"
   ]
  },
  {
   "cell_type": "code",
   "execution_count": 18,
   "id": "83f0842a-b1a5-4270-a928-3c7e360dac19",
   "metadata": {},
   "outputs": [
    {
     "name": "stdout",
     "output_type": "stream",
     "text": [
      "['Region', 'Date', 'Frequency', 'Estimated Unemployment Rate (%)', 'Estimated Employed', 'Estimated Labour Participation Rate (%)', 'Area']\n",
      "<class 'pandas.core.frame.DataFrame'>\n",
      "RangeIndex: 768 entries, 0 to 767\n",
      "Data columns (total 7 columns):\n",
      " #   Column                                   Non-Null Count  Dtype         \n",
      "---  ------                                   --------------  -----         \n",
      " 0   Region                                   740 non-null    object        \n",
      " 1   Date                                     740 non-null    datetime64[ns]\n",
      " 2   Frequency                                740 non-null    object        \n",
      " 3   Estimated Unemployment Rate (%)          740 non-null    float64       \n",
      " 4   Estimated Employed                       740 non-null    float64       \n",
      " 5   Estimated Labour Participation Rate (%)  740 non-null    float64       \n",
      " 6   Area                                     740 non-null    object        \n",
      "dtypes: datetime64[ns](1), float64(3), object(3)\n",
      "memory usage: 42.1+ KB\n"
     ]
    }
   ],
   "source": [
    "#1 Changing Date type from object to Date and Estimated Employed from float to int in Unemployment in India table\n",
    "#2 Adjustment columns extra spaces\n",
    "print(df1.columns.tolist())\n",
    "df1.columns = df1.columns.str.strip()\n",
    "df1['Date'] = pd.to_datetime(df1['Date'],dayfirst = True)\n",
    "df1.info()"
   ]
  },
  {
   "cell_type": "code",
   "execution_count": 21,
   "id": "409a5203-bf33-4190-a53e-cf71d5115c43",
   "metadata": {},
   "outputs": [
    {
     "name": "stdout",
     "output_type": "stream",
     "text": [
      "['Region', ' Date', ' Frequency', ' Estimated Unemployment Rate (%)', ' Estimated Employed', ' Estimated Labour Participation Rate (%)', 'Region.1', 'longitude', 'latitude']\n",
      "<class 'pandas.core.frame.DataFrame'>\n",
      "RangeIndex: 267 entries, 0 to 266\n",
      "Data columns (total 9 columns):\n",
      " #   Column                                   Non-Null Count  Dtype         \n",
      "---  ------                                   --------------  -----         \n",
      " 0   Region                                   267 non-null    object        \n",
      " 1   Date                                     267 non-null    datetime64[ns]\n",
      " 2   Frequency                                267 non-null    object        \n",
      " 3   Estimated Unemployment Rate (%)          267 non-null    float64       \n",
      " 4   Estimated Employed                       267 non-null    int64         \n",
      " 5   Estimated Labour Participation Rate (%)  267 non-null    float64       \n",
      " 6   Region.1                                 267 non-null    object        \n",
      " 7   longitude                                267 non-null    float64       \n",
      " 8   latitude                                 267 non-null    float64       \n",
      "dtypes: datetime64[ns](1), float64(4), int64(1), object(3)\n",
      "memory usage: 18.9+ KB\n"
     ]
    }
   ],
   "source": [
    "#1 Changing Date type from object to Date For Unemployment rate in year 2020\n",
    "#2 Adjustment columns extra spaces\n",
    "print(df2.columns.tolist())\n",
    "df2.columns = df2.columns.str.strip()\n",
    "df2['Date'] = pd.to_datetime(df2['Date'],dayfirst = True)\n",
    "df2.info()"
   ]
  },
  {
   "cell_type": "code",
   "execution_count": 22,
   "id": "3833cb60-48ab-4e23-8dfe-3c8948d339c7",
   "metadata": {},
   "outputs": [
    {
     "name": "stdout",
     "output_type": "stream",
     "text": [
      "\n",
      "Rows and Columns:\n",
      "Before with Null Values (768, 7)\n",
      "After Remove Null Values (740, 7)\n"
     ]
    }
   ],
   "source": [
    "#3 Checking Null Values and remove it in in Unemployment in India table\n",
    "df1.isnull().sum()\n",
    "print(\"\\nRows and Columns:\") \n",
    "print(\"Before with Null Values\" ,df1.shape) \n",
    "df1 = df1.dropna()\n",
    "print(\"After Remove Null Values\", df1.shape)"
   ]
  },
  {
   "cell_type": "code",
   "execution_count": 23,
   "id": "a7b4db26-b901-4eb0-957a-e15e423a3c33",
   "metadata": {},
   "outputs": [
    {
     "name": "stdout",
     "output_type": "stream",
     "text": [
      "\n",
      "Rows and Columns:\n",
      "Before with Null Values (267, 9)\n",
      "After Remove Null Values (267, 9)\n"
     ]
    }
   ],
   "source": [
    "#4 Checking Null Values and remove it in in Unemployment  Rate in Year 2020\n",
    "df2.isnull().sum()\n",
    "print(\"\\nRows and Columns:\") \n",
    "print(\"Before with Null Values\" ,df2.shape) \n",
    "df2 = df2.dropna()\n",
    "print(\"After Remove Null Values\", df2.shape)"
   ]
  },
  {
   "cell_type": "markdown",
   "id": "a2dfec04-24a4-43bc-9a67-772dd577d6c2",
   "metadata": {},
   "source": [
    "# Identify trends, patterns and anomalies within the data"
   ]
  },
  {
   "cell_type": "code",
   "execution_count": 24,
   "id": "ab4a0547-b089-4e55-96b6-6825aedbfdd8",
   "metadata": {},
   "outputs": [
    {
     "name": "stdout",
     "output_type": "stream",
     "text": [
      "\n",
      "Number of Uniques Regions:\n",
      "28\n",
      "\n",
      "Name of Unique Regions:\n",
      "['Andhra Pradesh' 'Assam' 'Bihar' 'Chhattisgarh' 'Delhi' 'Goa' 'Gujarat'\n",
      " 'Haryana' 'Himachal Pradesh' 'Jammu & Kashmir' 'Jharkhand' 'Karnataka'\n",
      " 'Kerala' 'Madhya Pradesh' 'Maharashtra' 'Meghalaya' 'Odisha' 'Puducherry'\n",
      " 'Punjab' 'Rajasthan' 'Sikkim' 'Tamil Nadu' 'Telangana' 'Tripura'\n",
      " 'Uttar Pradesh' 'Uttarakhand' 'West Bengal' 'Chandigarh']\n",
      "\n",
      "Area Distribution:\n",
      "['Rural' 'Urban']\n",
      "Area\n",
      "Urban    381\n",
      "Rural    359\n",
      "Name: count, dtype: int64\n"
     ]
    }
   ],
   "source": [
    "print(\"\\nNumber of Uniques Regions:\")\n",
    "print(df1['Region'].nunique())\n",
    "print(\"\\nName of Unique Regions:\")\n",
    "print(df1['Region'].unique())\n",
    "print(\"\\nArea Distribution:\")\n",
    "print(df1['Area'].unique())\n",
    "print(df1['Area'].value_counts())"
   ]
  },
  {
   "cell_type": "code",
   "execution_count": 25,
   "id": "d8e993ca-1a6c-4d11-b553-362e9a47eb00",
   "metadata": {},
   "outputs": [
    {
     "name": "stdout",
     "output_type": "stream",
     "text": [
      "n\\Total Employeed: Area\n",
      "Rural    3.659234e+09\n",
      "Urban    1.672066e+09\n",
      "Name: Estimated Employed, dtype: float64\n",
      "\n",
      "Avg labour participation rate: Area\n",
      "Rural    44.464819\n",
      "Urban    40.901365\n",
      "Name: Estimated Labour Participation Rate (%), dtype: float64\n"
     ]
    },
    {
     "name": "stderr",
     "output_type": "stream",
     "text": [
      "<>:3: SyntaxWarning: invalid escape sequence '\\T'\n",
      "<>:3: SyntaxWarning: invalid escape sequence '\\T'\n",
      "C:\\Users\\rajne\\AppData\\Local\\Temp\\ipykernel_18880\\768626678.py:3: SyntaxWarning: invalid escape sequence '\\T'\n",
      "  print(\"n\\Total Employeed:\",  labour_force)\n"
     ]
    }
   ],
   "source": [
    "# Labour Fource are more in rural areas then urban areas\n",
    "labour_force = df1.groupby('Area')['Estimated Employed'].sum().sort_values(ascending = False)\n",
    "print(\"n\\Total Employeed:\",  labour_force)\n",
    "labour_force2 = df1.groupby('Area')['Estimated Labour Participation Rate (%)'].mean().sort_values(ascending = False)\n",
    "print(\"\\nAvg labour participation rate:\",labour_force2)"
   ]
  },
  {
   "cell_type": "code",
   "execution_count": 26,
   "id": "f9ac9279-825b-41da-a4b8-400a780c4047",
   "metadata": {},
   "outputs": [
    {
     "name": "stdout",
     "output_type": "stream",
     "text": [
      "\n",
      "Region wise Avg Unemployment Rate: Region\n",
      "Tripura             28.35\n",
      "Haryana             26.28\n",
      "Jharkhand           20.58\n",
      "Bihar               18.92\n",
      "Himachal Pradesh    18.54\n",
      "Delhi               16.50\n",
      "Jammu & Kashmir     16.19\n",
      "Chandigarh          15.99\n",
      "Rajasthan           14.06\n",
      "Uttar Pradesh       12.55\n",
      "Punjab              12.03\n",
      "Puducherry          10.22\n",
      "Kerala              10.12\n",
      "Tamil Nadu           9.28\n",
      "Goa                  9.27\n",
      "Chhattisgarh         9.24\n",
      "West Bengal          8.12\n",
      "Telangana            7.74\n",
      "Maharashtra          7.56\n",
      "Andhra Pradesh       7.48\n",
      "Madhya Pradesh       7.41\n",
      "Sikkim               7.25\n",
      "Karnataka            6.68\n",
      "Gujarat              6.66\n",
      "Uttarakhand          6.58\n",
      "Assam                6.43\n",
      "Odisha               5.66\n",
      "Meghalaya            4.80\n",
      "Name: Estimated Unemployment Rate (%), dtype: float64\n"
     ]
    }
   ],
   "source": [
    "Region_Wise_Avg_Unemployment = df1.groupby('Region')['Estimated Unemployment Rate (%)'].mean().sort_values(ascending = False).round(2)\n",
    "print(\"\\nRegion wise Avg Unemployment Rate:\",  Region_Wise_Avg_Unemployment)"
   ]
  },
  {
   "cell_type": "markdown",
   "id": "85ca4f2d-ab99-4461-a427-76b51a19656c",
   "metadata": {},
   "source": [
    "AS we can see Higest Unemployment rate in 'Tripura', And Lowest Unemployment rate in 'Meghalaya'"
   ]
  },
  {
   "cell_type": "code",
   "execution_count": 27,
   "id": "fc96097d-9bc4-4250-8b5f-f894871c6457",
   "metadata": {},
   "outputs": [
    {
     "name": "stdout",
     "output_type": "stream",
     "text": [
      "   index      Region       Date Frequency  Estimated Unemployment Rate (%)  \\\n",
      "0    145   Jharkhand 2020-05-31   Monthly                            55.10   \n",
      "1    242  Puducherry 2020-04-30   Monthly                            74.51   \n",
      "2    287  Tamil Nadu 2020-04-30   Monthly                            53.19   \n",
      "3    412       Bihar 2020-04-30   Monthly                            58.77   \n",
      "4    530   Jharkhand 2020-04-30   Monthly                            61.48   \n",
      "5    531   Jharkhand 2020-05-31   Monthly                            70.17   \n",
      "6    627  Puducherry 2020-04-30   Monthly                            76.74   \n",
      "7    628  Puducherry 2020-05-31   Monthly                            75.00   \n",
      "\n",
      "   Estimated Employed  Estimated Labour Participation Rate (%)   Area  \n",
      "0           3315038.0                                    37.03  Rural  \n",
      "1             49420.0                                    46.79  Rural  \n",
      "2           5086200.0                                    33.05  Rural  \n",
      "3           1400962.0                                    34.94  Urban  \n",
      "4           1054829.0                                    39.92  Urban  \n",
      "5            830347.0                                    40.49  Urban  \n",
      "6             68122.0                                    35.54  Urban  \n",
      "7             64538.0                                    31.25  Urban  \n"
     ]
    }
   ],
   "source": [
    "# Checking anomalies\n",
    "anomalies = df1[df1['Estimated Unemployment Rate (%)']>50].reset_index()\n",
    "print(anomalies)"
   ]
  },
  {
   "cell_type": "markdown",
   "id": "213aa382-8ce4-4653-95a2-b2135a7bcca8",
   "metadata": {},
   "source": [
    "As we can see there are vary high unemployment rate in 'Puducherry'which is 76.74 % Region"
   ]
  },
  {
   "cell_type": "markdown",
   "id": "8adf72c6-e81b-4280-8949-5600ca42ff21",
   "metadata": {},
   "source": [
    "# Testing Hypotheses"
   ]
  },
  {
   "cell_type": "code",
   "execution_count": 28,
   "id": "bfe13eaf-8835-41bd-917d-bdede8e2a41d",
   "metadata": {},
   "outputs": [
    {
     "name": "stdout",
     "output_type": "stream",
     "text": [
      "Area\n",
      "Rural    10.324791\n",
      "Urban    13.166614\n",
      "Name: Estimated Unemployment Rate (%), dtype: float64\n"
     ]
    }
   ],
   "source": [
    "#1. Unemployment are more in urban areas compared to rural areas\n",
    "Urban_and_Rural_unemployment_avg = df1.groupby('Area')['Estimated Unemployment Rate (%)'].mean()\n",
    "print(Urban_and_Rural_unemployment_avg)"
   ]
  },
  {
   "cell_type": "markdown",
   "id": "e9191de7-559a-4d81-af67-359ad0db21eb",
   "metadata": {},
   "source": [
    "Null Hypothesis Ho: Avg rural unemployment rate are > then urban unemplyment rate Alternat Hypothesis H1 : Avg urban unemployment rate are > then rural unemployment rate AS we can see Urban Unemploment avg rate is > then rural avg, So we can say that urban areas faces more unemployment then ruela areas, As result we fail to reject the alternat hypothesis H1 Insight: Urban unemployment rates are on average 3% higher than rural areas."
   ]
  },
  {
   "cell_type": "code",
   "execution_count": 29,
   "id": "9a807eef-1a25-483d-b01f-34b7bbdd50f6",
   "metadata": {},
   "outputs": [
    {
     "name": "stdout",
     "output_type": "stream",
     "text": [
      "\n",
      "Avg Unemployment rate befor lockdown year (2019) was: 11.79\n",
      "\n",
      "Unemployment from April 2020:\n",
      "                Region       Date  Estimated Unemployment Rate (%)\n",
      "172        Puducherry 2020-04-30                            75.85\n",
      "210        Tamil Nadu 2020-04-30                            49.83\n",
      "102         Jharkhand 2020-04-30                            47.09\n",
      "23              Bihar 2020-04-30                            46.64\n",
      "73            Haryana 2020-04-30                            43.22\n",
      "230           Tripura 2020-04-30                            41.23\n",
      "112         Karnataka 2020-04-30                            29.84\n",
      "162            Odisha 2020-04-30                            23.76\n",
      "240     Uttar Pradesh 2020-04-30                            21.54\n",
      "142       Maharashtra 2020-04-30                            20.90\n",
      "3      Andhra Pradesh 2020-04-30                            20.51\n",
      "63            Gujarat 2020-04-30                            18.71\n",
      "192         Rajasthan 2020-04-30                            17.70\n",
      "260       West Bengal 2020-04-30                            17.41\n",
      "122            Kerala 2020-04-30                            16.99\n",
      "43              Delhi 2020-04-30                            16.68\n",
      "53                Goa 2020-04-30                            13.31\n",
      "132    Madhya Pradesh 2020-04-30                            12.36\n",
      "13              Assam 2020-04-30                            11.06\n",
      "152         Meghalaya 2020-04-30                            10.03\n",
      "250       Uttarakhand 2020-04-30                             6.48\n",
      "220         Telangana 2020-04-30                             6.25\n",
      "33       Chhattisgarh 2020-04-30                             3.41\n",
      "182            Punjab 2020-04-30                             2.86\n",
      "200            Sikkim 2020-04-30                             2.28\n",
      "83   Himachal Pradesh 2020-04-30                             2.20\n"
     ]
    }
   ],
   "source": [
    "#2. COVID 19 lockdown impact on employment in (April 2020)\n",
    "print(\"\\nAvg Unemployment rate befor lockdown year (2019) was:\", df1['Estimated Unemployment Rate (%)'].mean().round(2))\n",
    "April_2020 = df2[df2['Date']=='2020-04-30']\n",
    "print(\"\\nUnemployment from April 2020:\\n\" , April_2020[['Region','Date','Estimated Unemployment Rate (%)']].sort_values(by = 'Estimated Unemployment Rate (%)',ascending = False ))"
   ]
  },
  {
   "cell_type": "markdown",
   "id": "9d9ad51a-bd4e-4ce7-98a8-bbed81462015",
   "metadata": {},
   "source": [
    "\n",
    "Null Hypothesis Ho: There are not any impact in unemployment rate due to COVID 19 Starting month (2020-04-30) Alternat Hypothesis H1: There are negative impact in unemployment rate dut to COVID 19 lockdown Started month (2020-04-30) As we can see when COVID 19 lockdown Started April Month 2020, 'Puducherry' much more affect compare to other states , As we can see the number we are fail to reject Alternat hupothesis means - There are some negative inpact in Unemployment rate due to Lockdown Insight: Puducherry had the highest spike (75%) in unemployment in April 2020, likely due to strict lockdown effects."
   ]
  },
  {
   "cell_type": "code",
   "execution_count": 33,
   "id": "5f287133-c5a1-4ff3-91da-61643d4d9cd9",
   "metadata": {},
   "outputs": [
    {
     "name": "stdout",
     "output_type": "stream",
     "text": [
      "\n",
      "COVID started year 2020 Monthly unemployment avg rate: Months\n",
      "5     23.24\n",
      "4     22.24\n",
      "6     10.91\n",
      "3     10.78\n",
      "8     10.31\n",
      "7      9.83\n",
      "2      9.27\n",
      "1      9.20\n",
      "9      8.71\n",
      "10     8.03\n",
      "Name: Estimated Unemployment Rate (%), dtype: float64\n"
     ]
    }
   ],
   "source": [
    "# COVID 19 affect unemployment rate\n",
    "df2['Months'] = df2['Date'].dt.month\n",
    "df2.groupby(['Months'])['Estimated Unemployment Rate (%)'].mean()\n",
    "print(\"\\nCOVID started year 2020 Monthly unemployment avg rate:\", df2.groupby(['Months'])['Estimated Unemployment Rate (%)'].mean().round(2).sort_values (ascending =False ))"
   ]
  },
  {
   "cell_type": "markdown",
   "id": "8e5911d6-1747-43cf-ab2b-9130fd2aaa77",
   "metadata": {},
   "source": [
    "As we can see in COVID year 2020 Started lockdown month April(4) to June(6) there are pick unemployment rate in India"
   ]
  },
  {
   "cell_type": "code",
   "execution_count": 31,
   "id": "bb90f731-4356-461e-b408-778793aa88a7",
   "metadata": {},
   "outputs": [
    {
     "name": "stderr",
     "output_type": "stream",
     "text": [
      "C:\\Users\\rajne\\AppData\\Local\\Temp\\ipykernel_18880\\1262575362.py:2: SettingWithCopyWarning: \n",
      "A value is trying to be set on a copy of a slice from a DataFrame.\n",
      "Try using .loc[row_indexer,col_indexer] = value instead\n",
      "\n",
      "See the caveats in the documentation: https://pandas.pydata.org/pandas-docs/stable/user_guide/indexing.html#returning-a-view-versus-a-copy\n",
      "  df1['Months'] = df1['Date'].dt.month\n"
     ]
    },
    {
     "data": {
      "text/plain": [
       "Months\n",
       "1      9.95\n",
       "2      9.96\n",
       "3     10.70\n",
       "4     23.64\n",
       "5     16.65\n",
       "6     10.55\n",
       "7      9.03\n",
       "8      9.64\n",
       "9      9.05\n",
       "10     9.90\n",
       "11     9.87\n",
       "12     9.50\n",
       "Name: Estimated Unemployment Rate (%), dtype: float64"
      ]
     },
     "execution_count": 31,
     "metadata": {},
     "output_type": "execute_result"
    }
   ],
   "source": [
    "# Unemployment trend Over time\n",
    "df1['Months'] = df1['Date'].dt.month\n",
    "df1.groupby('Months')['Estimated Unemployment Rate (%)'].mean().round(2)"
   ]
  },
  {
   "cell_type": "markdown",
   "id": "83211ef4-17ff-47d8-8896-70fc2587ec2e",
   "metadata": {},
   "source": [
    "This Picture shows that unemployment rate gradually increased between 3 to 6 in 2019"
   ]
  },
  {
   "cell_type": "code",
   "execution_count": null,
   "id": "b3bf1eee-f8d7-48e9-b9dd-7377ec0cbf96",
   "metadata": {},
   "outputs": [],
   "source": []
  }
 ],
 "metadata": {
  "kernelspec": {
   "display_name": "Python 3 (ipykernel)",
   "language": "python",
   "name": "python3"
  },
  "language_info": {
   "codemirror_mode": {
    "name": "ipython",
    "version": 3
   },
   "file_extension": ".py",
   "mimetype": "text/x-python",
   "name": "python",
   "nbconvert_exporter": "python",
   "pygments_lexer": "ipython3",
   "version": "3.12.7"
  }
 },
 "nbformat": 4,
 "nbformat_minor": 5
}
